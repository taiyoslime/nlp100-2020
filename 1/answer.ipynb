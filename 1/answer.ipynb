{
 "cells": [
  {
   "cell_type": "code",
   "execution_count": 5,
   "metadata": {},
   "outputs": [
    {
     "output_type": "execute_result",
     "data": {
      "text/plain": "'desserts'"
     },
     "metadata": {},
     "execution_count": 5
    }
   ],
   "source": [
    "# 00\n",
    "\"stressed\"[::-1]"
   ]
  },
  {
   "cell_type": "code",
   "execution_count": 6,
   "metadata": {},
   "outputs": [
    {
     "output_type": "execute_result",
     "data": {
      "text/plain": "'タクシー'"
     },
     "metadata": {},
     "execution_count": 6
    }
   ],
   "source": [
    "# 01\n",
    "str = \"パタトクカシーー\"\n",
    "str[1] + str[3] + str[5] + str[7]"
   ]
  },
  {
   "cell_type": "code",
   "execution_count": 36,
   "metadata": {},
   "outputs": [
    {
     "output_type": "execute_result",
     "data": {
      "text/plain": "'パタトクカシーー'"
     },
     "metadata": {},
     "execution_count": 36
    }
   ],
   "source": [
    "# 02\n",
    "s1 = \"パトカー\"\n",
    "s2 = \"タクシー\"\n",
    "s = \"\"\n",
    "\"\".join([ _a + _b for _a, _b in zip(s1, s2)])"
   ]
  },
  {
   "cell_type": "code",
   "execution_count": 33,
   "metadata": {},
   "outputs": [
    {
     "output_type": "execute_result",
     "data": {
      "text/plain": "[3, 1, 4, 1, 5, 9, 2, 6, 5, 3, 5, 8, 9, 7, 9]"
     },
     "metadata": {},
     "execution_count": 33
    }
   ],
   "source": [
    "# 03\n",
    "import re\n",
    "str_raw = \"Now I need a drink, alcoholic of course, after the heavy lectures involving quantum mechanics.\"\n",
    "str = re.sub('[^\\w\\s]', '', str_raw).split(' ')\n",
    "[ len(_str) for _str in str ]"
   ]
  },
  {
   "cell_type": "code",
   "execution_count": 60,
   "metadata": {},
   "outputs": [
    {
     "output_type": "execute_result",
     "data": {
      "text/plain": "{'H': 1,\n 'He': 2,\n 'Li': 3,\n 'Be': 4,\n 'B': 5,\n 'C': 6,\n 'N': 7,\n 'O': 8,\n 'F': 9,\n 'Ne': 10,\n 'Na': 11,\n 'Mi': 12,\n 'Al': 13,\n 'Si': 14,\n 'P': 15,\n 'S': 16,\n 'Cl': 17,\n 'Ar': 18,\n 'K': 19,\n 'Ca': 20}"
     },
     "metadata": {},
     "execution_count": 60
    }
   ],
   "source": [
    "# 04\n",
    "str_raw = \"Hi He Lied Because Boron Could Not Oxidize Fluorine. New Nations Might Also Sign Peace Security Clause. Arthur King Can.\"\n",
    "str = re.sub('[^\\w\\s]', '', str_raw).split(' ')\n",
    "d = {}\n",
    "flag = [1, 5, 6, 7, 8, 9, 15, 16, 19]\n",
    "for i, _str in enumerate(str):\n",
    "    if i + 1 in flag:\n",
    "        d[_str[0]] = i + 1\n",
    "    else:\n",
    "        d[_str[0:2]] = i + 1\n",
    "d"
   ]
  },
  {
   "cell_type": "code",
   "execution_count": 43,
   "metadata": {},
   "outputs": [],
   "source": [
    "def gen_ngram(obj, n):\n",
    "    return [obj[i:i + n] for i in range(len(obj) - n + 1)]"
   ]
  },
  {
   "cell_type": "code",
   "execution_count": 44,
   "metadata": {},
   "outputs": [
    {
     "output_type": "stream",
     "name": "stdout",
     "text": "['I ', ' a', 'am', 'm ', ' a', 'an', 'n ', ' N', 'NL', 'LP', 'Pe', 'er']\n[['I', 'am'], ['am', 'an'], ['an', 'NLPer']]\n"
    }
   ],
   "source": [
    "# 05    \n",
    "str = \"I am an NLPer\"\n",
    "print(gen_ngram(str, 2))\n",
    "print(gen_ngram(str.split(' '), 2))"
   ]
  },
  {
   "cell_type": "code",
   "execution_count": 48,
   "metadata": {},
   "outputs": [
    {
     "output_type": "stream",
     "name": "stdout",
     "text": "X & Y ==  {'ar', 'ap', 'pa', 'ra'}\nX | Y ==  {'ar', 'pa', 'is', 'se', 'ag', 'gr', 'ph', 'di', 'ap', 'ad', 'ra'}\nX - Y ==  {'ad', 'is', 'se', 'di'}\n'se' in X ==  True\n'se' in Y ==  False\n"
    }
   ],
   "source": [
    "# 06\n",
    "s1 = \"paraparaparadise\"\n",
    "s2 = \"paragraph\"\n",
    "X = set(gen_ngram(s1, 2))\n",
    "Y = set(gen_ngram(s2, 2))\n",
    "print(\"X & Y == \", X & Y)\n",
    "print(\"X | Y == \", X | Y)\n",
    "print(\"X - Y == \", X - Y)\n",
    "print(\"'se' in X == \", 'se' in X)\n",
    "print(\"'se' in Y == \", 'se' in Y)"
   ]
  },
  {
   "cell_type": "code",
   "execution_count": 49,
   "metadata": {},
   "outputs": [
    {
     "output_type": "execute_result",
     "data": {
      "text/plain": "'12時の気温は22.4'"
     },
     "metadata": {},
     "execution_count": 49
    }
   ],
   "source": [
    "# 07\n",
    "def tmpl(x, y, z):\n",
    "    return f'{x}時の{y}は{z}'\n",
    "tmpl(12, \"気温\", 22.4)"
   ]
  },
  {
   "cell_type": "code",
   "execution_count": 59,
   "metadata": {},
   "outputs": [
    {
     "output_type": "stream",
     "name": "stdout",
     "text": "Nld I mvvw z wirmp, zoxlslorx lu xlfihv, zugvi gsv svzeb ovxgfivh rmeloermt jfzmgfn nvxszmrxh.\n"
    }
   ],
   "source": [
    "# 08\n",
    "def cipher(str):\n",
    "    return \"\".join([chr(219 - ord(c)) if c.islower() else c for c in list(str)])\n",
    "\n",
    "str = \"Now I need a drink, alcoholic of course, after the heavy lectures involving quantum mechanics.\"\n",
    "print(cipher(str))\n",
    "assert(cipher(cipher(str)))"
   ]
  },
  {
   "cell_type": "code",
   "execution_count": 81,
   "metadata": {},
   "outputs": [
    {
     "output_type": "execute_result",
     "data": {
      "text/plain": "'I colnud’t bveilee that I could aallutcy utdnnserad what I was rniedag : the ponhnmaeel pwoer of the hmuan mind .'"
     },
     "metadata": {},
     "execution_count": 81
    }
   ],
   "source": [
    "# 09\n",
    "import random\n",
    "str = \"I couldn’t believe that I could actually understand what I was reading : the phenomenal power of the human mind .\"\n",
    "\" \".join([ _str[0] + \"\".join(random.sample([*_str[1:-1]], len(_str) - 2)) + _str[-1] if len(_str) > 4 else _str for _str in str.split(' ')]) "
   ]
  }
 ],
 "metadata": {
  "language_info": {
   "codemirror_mode": {
    "name": "ipython",
    "version": 3
   },
   "file_extension": ".py",
   "mimetype": "text/x-python",
   "name": "python",
   "nbconvert_exporter": "python",
   "pygments_lexer": "ipython3",
   "version": 3
  },
  "orig_nbformat": 2,
  "kernelspec": {
   "name": "python_defaultSpec_1603364672839",
   "display_name": "Python 3.8.5 64-bit"
  }
 },
 "nbformat": 4,
 "nbformat_minor": 2
}