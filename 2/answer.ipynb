{
 "cells": [
  {
   "cell_type": "code",
   "execution_count": 21,
   "metadata": {},
   "outputs": [
    {
     "output_type": "stream",
     "name": "stdout",
     "text": "2780\n"
    }
   ],
   "source": [
    "# 10\n",
    "linenum = 0\n",
    "with open('data/popular-names.txt') as f:\n",
    "    for _ in f:\n",
    "        linenum += 1\n",
    "linenum"
   ]
  },
  {
   "cell_type": "code",
   "execution_count": 25,
   "metadata": {},
   "outputs": [
    {
     "output_type": "stream",
     "name": "stdout",
     "text": "2780\n"
    }
   ],
   "source": [
    "!wc data/popular-names.txt | awk '{print $1}'"
   ]
  },
  {
   "cell_type": "code",
   "execution_count": 15,
   "metadata": {},
   "outputs": [
    {
     "output_type": "stream",
     "name": "stdout",
     "text": "Mary F 7065 1880\nAnna F 2604 1880\nEmma F 2003 1880\nElizabeth F 1939 1880\nMinnie F 1746 1880\nMargaret F 1578 1880\nIda F 1472 1880\nAlice F 1414 1880\nBertha F 1320 1880\nSarah F 1288 1880\n"
    }
   ],
   "source": [
    "# 11\n",
    "prc = []\n",
    "with open('data/popular-names.txt') as f:\n",
    "    for i, s in enumerate(f):\n",
    "        prc.append(s.replace('\\t', ' '))\n",
    "for i in range(10):\n",
    "    print(prc[i], end=\"\")"
   ]
  },
  {
   "cell_type": "code",
   "execution_count": 16,
   "metadata": {},
   "outputs": [
    {
     "output_type": "stream",
     "name": "stdout",
     "text": "Mary F 7065 1880\nAnna F 2604 1880\nEmma F 2003 1880\nElizabeth F 1939 1880\nMinnie F 1746 1880\nMargaret F 1578 1880\nIda F 1472 1880\nAlice F 1414 1880\nBertha F 1320 1880\nSarah F 1288 1880\n"
    }
   ],
   "source": [
    "!cat data/popular-names.txt | tr '\\t' ' ' | head"
   ]
  },
  {
   "cell_type": "code",
   "execution_count": 55,
   "metadata": {},
   "outputs": [
    {
     "output_type": "stream",
     "name": "stdout",
     "text": "Mary\nAnna\nEmma\nElizabeth\nMinnie\nMargaret\nIda\nAlice\nBertha\nSarah\nF\nF\nF\nF\nF\nF\nF\nF\nF\nF\n"
    }
   ],
   "source": [
    "# 12\n",
    "with open('data/popular-names.txt') as f, open('out/col1.txt', 'w') as col1, open('out/col2.txt', 'w') as col2:\n",
    "    for i, s in enumerate(f):\n",
    "        name, gender, *_ = s.split('\\t')\n",
    "        col1.write(name + '\\n')\n",
    "        col2.write(gender + '\\n')\n",
    "\n",
    "!cat col1.txt | head \n",
    "!cat col2.txt | head "
   ]
  },
  {
   "cell_type": "code",
   "execution_count": 33,
   "metadata": {},
   "outputs": [
    {
     "output_type": "stream",
     "name": "stdout",
     "text": "Mary\nAnna\nEmma\nElizabeth\nMinnie\nMargaret\nIda\nAlice\nBertha\nSarah\nF\nF\nF\nF\nF\nF\nF\nF\nF\nF\n"
    }
   ],
   "source": [
    "!cat data/popular-names.txt | cut -f 1 | head\n",
    "!cat data/popular-names.txt | cut -f 2 | head"
   ]
  },
  {
   "cell_type": "code",
   "execution_count": 57,
   "metadata": {},
   "outputs": [
    {
     "output_type": "stream",
     "name": "stdout",
     "text": "Mary\tF\nAnna\tF\nEmma\tF\nElizabeth\tF\nMinnie\tF\nMargaret\tF\nIda\tF\nAlice\tF\nBertha\tF\nSarah\tF\n"
    }
   ],
   "source": [
    "# 13\n",
    "with open('out/col_merged.txt', 'w') as col, open('out/col1.txt') as col1, open('out/col2.txt') as col2:\n",
    "    for s1, s2 in zip(col1, col2):\n",
    "        col.write(f'{s1.strip()}\\t{s2.strip()}\\n')\n",
    "!cat col_merged.txt | head"
   ]
  },
  {
   "cell_type": "code",
   "execution_count": 39,
   "metadata": {},
   "outputs": [
    {
     "output_type": "stream",
     "name": "stdout",
     "text": "Mary\tF\nAnna\tF\nEmma\tF\nElizabeth\tF\nMinnie\tF\nMargaret\tF\nIda\tF\nAlice\tF\nBertha\tF\nSarah\tF\n"
    }
   ],
   "source": [
    "!paste -d '\\t' col1.txt col2.txt | head"
   ]
  },
  {
   "cell_type": "code",
   "execution_count": 42,
   "metadata": {},
   "outputs": [
    {
     "output_type": "stream",
     "name": "stdout",
     "text": "Mary\tF\t7065\t1880\nAnna\tF\t2604\t1880\nEmma\tF\t2003\t1880\nElizabeth\tF\t1939\t1880\nMinnie\tF\t1746\t1880\nMargaret\tF\t1578\t1880\nIda\tF\t1472\t1880\nAlice\tF\t1414\t1880\nBertha\tF\t1320\t1880\nSarah\tF\t1288\t1880\n"
    }
   ],
   "source": [
    "# 14\n",
    "N = 10\n",
    "\n",
    "with open('data/popular-names.txt') as f:\n",
    "    for i, s in enumerate(f):\n",
    "        if i == N:\n",
    "            break\n",
    "        print(s, end='')"
   ]
  },
  {
   "cell_type": "code",
   "execution_count": 43,
   "metadata": {},
   "outputs": [
    {
     "output_type": "stream",
     "name": "stdout",
     "text": "Mary\tF\t7065\t1880\nAnna\tF\t2604\t1880\nEmma\tF\t2003\t1880\nElizabeth\tF\t1939\t1880\nMinnie\tF\t1746\t1880\nMargaret\tF\t1578\t1880\nIda\tF\t1472\t1880\nAlice\tF\t1414\t1880\nBertha\tF\t1320\t1880\nSarah\tF\t1288\t1880\ncat: stdout: Broken pipe\n"
    }
   ],
   "source": [
    "!cat data/popular-names.txt | head"
   ]
  },
  {
   "cell_type": "code",
   "execution_count": 53,
   "metadata": {},
   "outputs": [
    {
     "output_type": "stream",
     "name": "stdout",
     "text": "Liam\tM\t19837\t2018\nNoah\tM\t18267\t2018\nWilliam\tM\t14516\t2018\nJames\tM\t13525\t2018\nOliver\tM\t13389\t2018\nBenjamin\tM\t13381\t2018\nElijah\tM\t12886\t2018\nLucas\tM\t12585\t2018\nMason\tM\t12435\t2018\nLogan\tM\t12352\t2018\n"
    }
   ],
   "source": [
    "# 15\n",
    "N = 10\n",
    "\n",
    "str = []\n",
    "with open('data/popular-names.txt') as f:\n",
    "    str = [s.strip() for s in f]\n",
    "\n",
    "print(\"\\n\".join(str[-N:]))"
   ]
  },
  {
   "cell_type": "code",
   "execution_count": 52,
   "metadata": {},
   "outputs": [
    {
     "output_type": "stream",
     "name": "stdout",
     "text": "Liam\tM\t19837\t2018\nNoah\tM\t18267\t2018\nWilliam\tM\t14516\t2018\nJames\tM\t13525\t2018\nOliver\tM\t13389\t2018\nBenjamin\tM\t13381\t2018\nElijah\tM\t12886\t2018\nLucas\tM\t12585\t2018\nMason\tM\t12435\t2018\nLogan\tM\t12352\t2018\n"
    }
   ],
   "source": [
    "!cat data/popular-names.txt | tail "
   ]
  },
  {
   "cell_type": "code",
   "execution_count": 59,
   "metadata": {},
   "outputs": [],
   "source": [
    "# 16\n",
    "N = 5\n",
    "\n",
    "sd = [[] for _ in range(N)]\n",
    "with open('data/popular-names.txt') as f:\n",
    "    for i, s in enumerate(f):\n",
    "        sd[i % N].append(s)\n",
    "for i in range(N):\n",
    "    f = open(f'out/split-{i}.txt', 'w')\n",
    "    f.writelines(sd[i])\n",
    "    f.close()"
   ]
  },
  {
   "cell_type": "code",
   "execution_count": 6,
   "metadata": {},
   "outputs": [],
   "source": [
    "!:"
   ]
  },
  {
   "cell_type": "code",
   "execution_count": 27,
   "metadata": {},
   "outputs": [
    {
     "output_type": "stream",
     "name": "stdout",
     "text": "136\n['Mary', 'Anna', 'Emma', 'Elizabeth', 'Minnie', 'Margaret', 'Ida', 'Alice', 'Bertha', 'Sarah']\n"
    }
   ],
   "source": [
    "# 17\n",
    "names = []\n",
    "with open('data/popular-names.txt') as f:\n",
    "    names = [s.split('\\t')[0] for s in f]\n",
    "names = sorted(set(names), key=names.index)\n",
    "print(len(names))\n",
    "print(names[:10])"
   ]
  },
  {
   "cell_type": "code",
   "execution_count": 25,
   "metadata": {},
   "outputs": [
    {
     "output_type": "stream",
     "name": "stdout",
     "text": "136\n"
    }
   ],
   "source": [
    "!cat data/popular-names.txt | awk '{print $1}' | sort | uniq | wc | awk '{print $1}'"
   ]
  },
  {
   "cell_type": "code",
   "execution_count": 38,
   "metadata": {},
   "outputs": [
    {
     "output_type": "stream",
     "name": "stdout",
     "text": "Linda\tF\t99689\t1947\nLinda\tF\t96211\t1948\nJames\tM\t94757\t1947\nMichael\tM\t92704\t1957\nRobert\tM\t91640\t1947\nLinda\tF\t91016\t1949\nMichael\tM\t90656\t1956\nMichael\tM\t90517\t1958\nJames\tM\t88584\t1948\nMichael\tM\t88528\t1954\n"
    }
   ],
   "source": [
    "# 18\n",
    "d = []\n",
    "with open('data/popular-names.txt') as f:\n",
    "    d = [(s.strip(), int(s.split('\\t')[2])) for s in f]\n",
    "d = sorted(d, key=lambda _d: -_d[1])\n",
    "str = [_d[0] for _d in d]\n",
    "print(\"\\n\".join(str[:10]))\n"
   ]
  },
  {
   "cell_type": "code",
   "execution_count": 41,
   "metadata": {},
   "outputs": [
    {
     "output_type": "stream",
     "name": "stdout",
     "text": "Linda\tF\t99689\t1947\nLinda\tF\t96211\t1948\nJames\tM\t94757\t1947\nMichael\tM\t92704\t1957\nRobert\tM\t91640\t1947\nLinda\tF\t91016\t1949\nMichael\tM\t90656\t1956\nMichael\tM\t90517\t1958\nJames\tM\t88584\t1948\nMichael\tM\t88528\t1954\n"
    }
   ],
   "source": [
    "!cat data/popular-names.txt | sort -rn -k 3 | head"
   ]
  },
  {
   "cell_type": "code",
   "execution_count": 76,
   "metadata": {},
   "outputs": [
    {
     "output_type": "stream",
     "name": "stdout",
     "text": "James 118\nWilliam 111\nJohn 108\nRobert 108\nMary 92\nCharles 75\nMichael 74\nElizabeth 73\nJoseph 70\nMargaret 60\nGeorge 58\nThomas 58\nDavid 57\nRichard 51\nHelen 45\nFrank 43\nChristopher 43\nAnna 41\nEdward 40\nRuth 39\nPatricia 38\nMatthew 37\nDorothy 36\nEmma 35\nBarbara 32\nDaniel 31\nJoshua 31\nSarah 26\nLinda 26\nJennifer 26\nEmily 26\nJessica 25\nJacob 25\nMildred 24\nBetty 24\nSusan 24\nHenry 23\nAshley 23\nNancy 22\nAndrew 21\nFlorence 20\nMarie 20\nDonald 20\nAmanda 20\nSamantha 19\nKaren 18\nLisa 18\nMelissa 18\nMadison 18\nOlivia 18\nStephanie 17\nAbigail 17\nEthel 16\nSandra 16\nMark 16\nFrances 15\nCarol 15\nAngela 15\nMichelle 15\nHeather 15\nEthan 15\nIsabella 15\nShirley 14\nKimberly 14\nAmy 14\nAva 14\nVirginia 13\nDeborah 13\nBrian 13\nJason 13\nNicole 13\nHannah 13\nSophia 13\nMinnie 12\nBertha 12\nDonna 12\nCynthia 11\nAlice 10\nDoris 10\nRonald 10\nBrittany 10\nNicholas 10\nMia 10\nNoah 10\nJoan 9\nDebra 9\nTyler 9\nIda 8\nClara 8\nJudith 8\nTaylor 8\nAlexis 8\nAlexander 8\nMason 8\nHarry 7\nSharon 7\nSteven 7\nTammy 7\nBrandon 7\nLiam 7\nAnthony 6\nAnnie 5\nGary 5\nJeffrey 5\nJayden 5\nCharlotte 5\nLillian 4\nKathleen 4\nJustin 4\nAustin 4\nChloe 4\nBenjamin 4\nEvelyn 3\nMegan 3\nAiden 3\nHarper 3\nElijah 3\nBessie 2\nLarry 2\nRebecca 2\nLauren 2\nAmelia 2\nLogan 2\nOliver 2\nWalter 1\nCarolyn 1\nPamela 1\nLori 1\nLaura 1\nTracy 1\nJulie 1\nScott 1\nKelly 1\nCrystal 1\nRachel 1\nLucas 1\n"
    }
   ],
   "source": [
    "# 19\n",
    "import collections\n",
    "names = []\n",
    "with open('data/popular-names.txt') as f:\n",
    "    names = [s.split('\\t')[0] for s in f]\n",
    "\n",
    "for t in sorted(list(collections.Counter(names).items()), key=lambda t:-t[1]):\n",
    "    print(f'{t[0]} {t[1]}')"
   ]
  },
  {
   "cell_type": "code",
   "execution_count": 75,
   "metadata": {},
   "outputs": [
    {
     "output_type": "stream",
     "name": "stdout",
     "text": "118 James\n 111 William\n 108 Robert\n 108 John\n  92 Mary\n  75 Charles\n  74 Michael\n  73 Elizabeth\n  70 Joseph\n  60 Margaret\n  58 Thomas\n  58 George\n  57 David\n  51 Richard\n  45 Helen\n  43 Frank\n  43 Christopher\n  41 Anna\n  40 Edward\n  39 Ruth\n  38 Patricia\n  37 Matthew\n  36 Dorothy\n  35 Emma\n  32 Barbara\n  31 Joshua\n  31 Daniel\n  26 Sarah\n  26 Linda\n  26 Jennifer\n  26 Emily\n  25 Jessica\n  25 Jacob\n  24 Susan\n  24 Mildred\n  24 Betty\n  23 Henry\n  23 Ashley\n  22 Nancy\n  21 Andrew\n  20 Marie\n  20 Florence\n  20 Donald\n  20 Amanda\n  19 Samantha\n  18 Olivia\n  18 Melissa\n  18 Madison\n  18 Lisa\n  18 Karen\n  17 Stephanie\n  17 Abigail\n  16 Sandra\n  16 Mark\n  16 Ethel\n  15 Michelle\n  15 Isabella\n  15 Heather\n  15 Frances\n  15 Ethan\n  15 Carol\n  15 Angela\n  14 Shirley\n  14 Kimberly\n  14 Ava\n  14 Amy\n  13 Virginia\n  13 Sophia\n  13 Nicole\n  13 Jason\n  13 Hannah\n  13 Deborah\n  13 Brian\n  12 Minnie\n  12 Donna\n  12 Bertha\n  11 Cynthia\n  10 Ronald\n  10 Noah\n  10 Nicholas\n  10 Mia\n  10 Doris\n  10 Brittany\n  10 Alice\n   9 Tyler\n   9 Joan\n   9 Debra\n   8 Taylor\n   8 Mason\n   8 Judith\n   8 Ida\n   8 Clara\n   8 Alexis\n   8 Alexander\n   7 Tammy\n   7 Steven\n   7 Sharon\n   7 Liam\n   7 Harry\n   7 Brandon\n   6 Anthony\n   5 Jeffrey\n   5 Jayden\n   5 Gary\n   5 Charlotte\n   5 Annie\n   4 Lillian\n   4 Kathleen\n   4 Justin\n   4 Chloe\n   4 Benjamin\n   4 Austin\n   3 Megan\n   3 Harper\n   3 Evelyn\n   3 Elijah\n   3 Aiden\n   2 Rebecca\n   2 Oliver\n   2 Logan\n   2 Lauren\n   2 Larry\n   2 Bessie\n   2 Amelia\n   1 Walter\n   1 Tracy\n   1 Scott\n   1 Rachel\n   1 Pamela\n   1 Lucas\n   1 Lori\n   1 Laura\n   1 Kelly\n   1 Julie\n   1 Crystal\n   1 Carolyn\n"
    }
   ],
   "source": [
    "!cat data/popular-names.txt | cut -f 1 | sort | uniq -c | sort -rn -k 1"
   ]
  },
  {
   "cell_type": "code",
   "execution_count": null,
   "metadata": {},
   "outputs": [],
   "source": []
  }
 ],
 "metadata": {
  "language_info": {
   "codemirror_mode": {
    "name": "ipython",
    "version": 3
   },
   "file_extension": ".py",
   "mimetype": "text/x-python",
   "name": "python",
   "nbconvert_exporter": "python",
   "pygments_lexer": "ipython3",
   "version": 3
  },
  "orig_nbformat": 2,
  "kernelspec": {
   "name": "python_defaultSpec_1603469044782",
   "display_name": "Python 3.8.5 64-bit"
  }
 },
 "nbformat": 4,
 "nbformat_minor": 2
}